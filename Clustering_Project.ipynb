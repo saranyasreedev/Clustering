{
 "cells": [
  {
   "cell_type": "markdown",
   "id": "130ce8af",
   "metadata": {
    "id": "130ce8af"
   },
   "source": [
    "# Import Required Libraries"
   ]
  },
  {
   "cell_type": "code",
   "execution_count": null,
   "id": "ae78c54a",
   "metadata": {
    "id": "ae78c54a"
   },
   "outputs": [],
   "source": [
    "# For reading the data\n",
    "import pandas as pd\n",
    "import numpy as np\n",
    "import sklearn\n",
    "import scipy\n",
    "from sklearn.preprocessing import StandardScaler\n",
    "from numpy import isnan\n",
    "\n",
    "# import the KNNimputer class\n",
    "from sklearn.impute import KNNImputer\n",
    "\n",
    "# For graphical visualization of data\n",
    "import seaborn as sns\n",
    "import matplotlib.pyplot as plt\n",
    "%matplotlib inline\n",
    "\n",
    "from sklearn.decomposition import PCA\n",
    "from sklearn.cluster import KMeans,DBSCAN, AgglomerativeClustering\n",
    "import scipy.cluster.hierarchy as sch\n",
    "\n",
    "\n",
    "#from yellowbrick.cluster import SilhouetteVisualizer\n",
    "from sklearn.metrics import  silhouette_score\n",
    "\n",
    "import warnings\n",
    "warnings.filterwarnings('ignore')"
   ]
  },
  {
   "cell_type": "code",
   "execution_count": null,
   "id": "b1791e07",
   "metadata": {},
   "outputs": [],
   "source": [
    "print(pd.__version__)\n",
    "print(np.__version__)\n",
    "print(sklearn.__version__)\n",
    "print(scipy.__version__)"
   ]
  },
  {
   "cell_type": "markdown",
   "id": "8919c845",
   "metadata": {
    "id": "8919c845"
   },
   "source": [
    "# Business Problem\n",
    "\n",
    "Perform Clustering for the World Development Measurement and identify the number of clusters formed and draw inferences"
   ]
  },
  {
   "cell_type": "markdown",
   "id": "142a5aad",
   "metadata": {
    "id": "142a5aad"
   },
   "source": [
    "# Data Ingestion"
   ]
  },
  {
   "cell_type": "code",
   "execution_count": null,
   "id": "af257aa9",
   "metadata": {
    "id": "af257aa9"
   },
   "outputs": [],
   "source": [
    "data1 = pd.read_csv(r'World_development_mesurement.csv')"
   ]
  },
  {
   "cell_type": "code",
   "execution_count": null,
   "id": "22f416a3",
   "metadata": {
    "colab": {
     "base_uri": "https://localhost:8080/",
     "height": 644
    },
    "id": "22f416a3",
    "outputId": "4aae4b4f-074f-4ffd-f96f-175318e71046"
   },
   "outputs": [],
   "source": [
    "data1"
   ]
  },
  {
   "cell_type": "code",
   "execution_count": null,
   "id": "738600d9",
   "metadata": {},
   "outputs": [],
   "source": [
    "test = data1.iloc[10:,:]"
   ]
  },
  {
   "cell_type": "code",
   "execution_count": null,
   "id": "c607cb13",
   "metadata": {},
   "outputs": [],
   "source": [
    "test"
   ]
  },
  {
   "cell_type": "code",
   "execution_count": null,
   "id": "6d4d7116",
   "metadata": {},
   "outputs": [],
   "source": [
    "data1.drop()"
   ]
  },
  {
   "cell_type": "markdown",
   "id": "cb5e1727",
   "metadata": {
    "id": "cb5e1727"
   },
   "source": [
    "# Check Special Symbols in Data"
   ]
  },
  {
   "cell_type": "code",
   "execution_count": null,
   "id": "b72f4097",
   "metadata": {
    "id": "b72f4097"
   },
   "outputs": [],
   "source": [
    "data1['GDP'] = data1['GDP'].str.replace('$','')\n",
    "data1['GDP'] = data1['GDP'].str.replace(',','')\n",
    "data1['GDP'] = data1['GDP'].astype(float)\n",
    "\n"
   ]
  },
  {
   "cell_type": "code",
   "execution_count": null,
   "id": "9efdcd8a",
   "metadata": {
    "id": "9efdcd8a"
   },
   "outputs": [],
   "source": [
    "\n",
    "data1['Health Exp/Capita'] = data1['Health Exp/Capita'].str.replace('$','')\n",
    "data1['Health Exp/Capita'] = data1['Health Exp/Capita'].str.replace(',','')\n",
    "data1['Health Exp/Capita'] = data1['Health Exp/Capita'].astype(float)"
   ]
  },
  {
   "cell_type": "code",
   "execution_count": null,
   "id": "74a9a544",
   "metadata": {
    "id": "74a9a544"
   },
   "outputs": [],
   "source": [
    "data1['Tourism Inbound'] = data1['Tourism Inbound'].str.replace('$','')\n",
    "data1['Tourism Inbound'] = data1['Tourism Inbound'].str.replace(',','')\n",
    "data1['Tourism Inbound'] = data1['Tourism Inbound'].astype(float)"
   ]
  },
  {
   "cell_type": "code",
   "execution_count": null,
   "id": "c3637e6c",
   "metadata": {
    "id": "c3637e6c"
   },
   "outputs": [],
   "source": [
    "data1['Tourism Outbound'] = data1['Tourism Outbound'].str.replace('$','')\n",
    "data1['Tourism Outbound'] = data1['Tourism Outbound'].str.replace(',','')\n",
    "data1['Tourism Outbound'] = data1['Tourism Outbound'].astype(float)"
   ]
  },
  {
   "cell_type": "code",
   "execution_count": null,
   "id": "fd44bcaf",
   "metadata": {
    "id": "fd44bcaf"
   },
   "outputs": [],
   "source": [
    "data1['Business Tax Rate'] = data1['Business Tax Rate'].str.replace('%','')\n",
    "#data1['Business Tax Rate'] = data1['Tourism Outbound'].str.replace(',','')\n",
    "data1['Business Tax Rate'] = data1['Business Tax Rate'].astype(float)\n"
   ]
  },
  {
   "cell_type": "code",
   "execution_count": null,
   "id": "b49b5b14",
   "metadata": {
    "id": "b49b5b14"
   },
   "outputs": [],
   "source": [
    "# Calculating Percentage\n",
    "data1['Business Tax Rate'] = data1['Business Tax Rate'] /  100"
   ]
  },
  {
   "cell_type": "code",
   "execution_count": null,
   "id": "446159e7",
   "metadata": {
    "colab": {
     "base_uri": "https://localhost:8080/",
     "height": 644
    },
    "id": "446159e7",
    "outputId": "b5750fe3-1cae-4852-cf7d-c4c53bf6956b"
   },
   "outputs": [],
   "source": [
    "data1"
   ]
  },
  {
   "cell_type": "code",
   "execution_count": null,
   "id": "fe007f81",
   "metadata": {
    "id": "fe007f81"
   },
   "outputs": [],
   "source": [
    "data=data1.copy()"
   ]
  },
  {
   "cell_type": "code",
   "execution_count": null,
   "id": "218066f1",
   "metadata": {
    "colab": {
     "base_uri": "https://localhost:8080/"
    },
    "id": "218066f1",
    "outputId": "c40004c1-f107-4498-97b4-8e5cce2fd63a"
   },
   "outputs": [],
   "source": [
    "data.shape"
   ]
  },
  {
   "cell_type": "code",
   "execution_count": null,
   "id": "d882b8c6",
   "metadata": {
    "colab": {
     "base_uri": "https://localhost:8080/"
    },
    "id": "d882b8c6",
    "outputId": "941f72aa-054b-4799-dff8-716c15c94036"
   },
   "outputs": [],
   "source": [
    "data.columns"
   ]
  },
  {
   "cell_type": "code",
   "execution_count": null,
   "id": "0898f032",
   "metadata": {
    "colab": {
     "base_uri": "https://localhost:8080/"
    },
    "id": "0898f032",
    "outputId": "a596633c-97bf-42a1-f156-e0c173ae4a81"
   },
   "outputs": [],
   "source": [
    "data.info()"
   ]
  },
  {
   "cell_type": "code",
   "execution_count": null,
   "id": "53c758e6",
   "metadata": {
    "colab": {
     "base_uri": "https://localhost:8080/"
    },
    "id": "53c758e6",
    "outputId": "5e4eeea1-a219-4c2b-ce5e-152c1ecba41d"
   },
   "outputs": [],
   "source": [
    "data.dtypes"
   ]
  },
  {
   "cell_type": "code",
   "execution_count": null,
   "id": "2e72c2f5",
   "metadata": {
    "colab": {
     "base_uri": "https://localhost:8080/"
    },
    "id": "2e72c2f5",
    "outputId": "319b805d-9d21-4843-bb0c-f7987b3a959a"
   },
   "outputs": [],
   "source": [
    "data.memory_usage()"
   ]
  },
  {
   "cell_type": "code",
   "execution_count": null,
   "id": "7f0f16ed",
   "metadata": {
    "colab": {
     "base_uri": "https://localhost:8080/",
     "height": 428
    },
    "id": "7f0f16ed",
    "outputId": "66cc59d8-d647-48b0-fc53-92310a08fa89"
   },
   "outputs": [],
   "source": [
    "round(data.describe(),2)"
   ]
  },
  {
   "cell_type": "code",
   "execution_count": null,
   "id": "2ac4f428",
   "metadata": {
    "colab": {
     "base_uri": "https://localhost:8080/",
     "height": 846
    },
    "id": "2ac4f428",
    "outputId": "d1a84bb3-b19f-464f-bdd7-b1fec4fbdbc1"
   },
   "outputs": [],
   "source": [
    "round(data.describe().T,2)"
   ]
  },
  {
   "cell_type": "markdown",
   "id": "bccf04ed",
   "metadata": {
    "id": "bccf04ed"
   },
   "source": [
    "# EDA"
   ]
  },
  {
   "cell_type": "markdown",
   "id": "1bbb518f",
   "metadata": {
    "id": "1bbb518f"
   },
   "source": [
    "# Seperate Categorical and Numerical features"
   ]
  },
  {
   "cell_type": "code",
   "execution_count": null,
   "id": "a0604654",
   "metadata": {
    "colab": {
     "base_uri": "https://localhost:8080/"
    },
    "id": "a0604654",
    "outputId": "a83097b9-b0d5-47a0-952e-1c2d7fb32db8"
   },
   "outputs": [],
   "source": [
    "categorical_col = [fea for fea in data.columns if data[fea].dtype == 'O']\n",
    "categorical_col"
   ]
  },
  {
   "cell_type": "code",
   "execution_count": null,
   "id": "dbb33dcb",
   "metadata": {
    "colab": {
     "base_uri": "https://localhost:8080/"
    },
    "id": "dbb33dcb",
    "outputId": "d43a08f9-a6c2-43f3-da13-ef3099e616a8"
   },
   "outputs": [],
   "source": [
    "numerical_col = [fea for fea in data.columns if data[fea].dtype != 'O']\n",
    "numerical_col"
   ]
  },
  {
   "cell_type": "markdown",
   "id": "521b7723",
   "metadata": {
    "id": "521b7723"
   },
   "source": [
    "# Check the Null Values"
   ]
  },
  {
   "cell_type": "code",
   "execution_count": null,
   "id": "b4b5dd4a",
   "metadata": {
    "colab": {
     "base_uri": "https://localhost:8080/"
    },
    "id": "b4b5dd4a",
    "outputId": "b7c31421-6445-4aa2-e0f0-77414a279fbb"
   },
   "outputs": [],
   "source": [
    "data.isna().sum()"
   ]
  },
  {
   "cell_type": "markdown",
   "id": "051c2232",
   "metadata": {
    "id": "051c2232"
   },
   "source": [
    "# KNN Imputation"
   ]
  },
  {
   "cell_type": "code",
   "execution_count": null,
   "id": "7318d319",
   "metadata": {
    "id": "7318d319"
   },
   "outputs": [],
   "source": [
    "imputer = KNNImputer(n_neighbors=5, weights='uniform', metric='nan_euclidean')"
   ]
  },
  {
   "cell_type": "code",
   "execution_count": null,
   "id": "55618ac4",
   "metadata": {
    "id": "55618ac4"
   },
   "outputs": [],
   "source": [
    "data.drop('Country',inplace=True,axis=1)\n"
   ]
  },
  {
   "cell_type": "code",
   "execution_count": null,
   "id": "96a8559e",
   "metadata": {
    "colab": {
     "base_uri": "https://localhost:8080/",
     "height": 522
    },
    "id": "96a8559e",
    "outputId": "74b7c9eb-745e-437a-9858-9309badacbfe"
   },
   "outputs": [],
   "source": [
    "data"
   ]
  },
  {
   "cell_type": "code",
   "execution_count": null,
   "id": "d185f7f1",
   "metadata": {
    "colab": {
     "base_uri": "https://localhost:8080/"
    },
    "id": "d185f7f1",
    "outputId": "4b883d02-7e63-4c18-dfdc-152f583b9365"
   },
   "outputs": [],
   "source": [
    "# fit on the dataset\n",
    "imputer.fit(data)"
   ]
  },
  {
   "cell_type": "code",
   "execution_count": null,
   "id": "c5e13641",
   "metadata": {
    "id": "c5e13641"
   },
   "outputs": [],
   "source": [
    "# transform the dataset\n",
    "Xtrans = imputer.transform(data)"
   ]
  },
  {
   "cell_type": "code",
   "execution_count": null,
   "id": "181b28e1",
   "metadata": {
    "colab": {
     "base_uri": "https://localhost:8080/"
    },
    "id": "181b28e1",
    "outputId": "546d3d93-c180-4e52-d649-4ee5e89751c1"
   },
   "outputs": [],
   "source": [
    "Xtrans"
   ]
  },
  {
   "cell_type": "code",
   "execution_count": null,
   "id": "692f6487",
   "metadata": {
    "colab": {
     "base_uri": "https://localhost:8080/"
    },
    "id": "692f6487",
    "outputId": "df807109-4e18-4c4b-ac13-ec107edd84dd"
   },
   "outputs": [],
   "source": [
    "\n",
    "# knn imputation transform \n",
    "\n",
    "sum(isnan(Xtrans).flatten())"
   ]
  },
  {
   "cell_type": "code",
   "execution_count": null,
   "id": "b3972b42",
   "metadata": {
    "id": "b3972b42"
   },
   "outputs": [],
   "source": [
    "data=pd.DataFrame(Xtrans)\n",
    "data['Country']=data1['Country']"
   ]
  },
  {
   "cell_type": "code",
   "execution_count": null,
   "id": "5a7dcf72",
   "metadata": {
    "colab": {
     "base_uri": "https://localhost:8080/"
    },
    "id": "5a7dcf72",
    "outputId": "bd674f98-e3cd-4611-b3ff-7a42b54a380f"
   },
   "outputs": [],
   "source": [
    "## To check Duplicate Value is present or not in dataset.\n",
    "\n",
    "data.duplicated()"
   ]
  },
  {
   "cell_type": "code",
   "execution_count": null,
   "id": "1badded9",
   "metadata": {
    "colab": {
     "base_uri": "https://localhost:8080/"
    },
    "id": "1badded9",
    "outputId": "baa82539-fb21-4988-d22c-965d68964ff8"
   },
   "outputs": [],
   "source": [
    "data.duplicated().sum()"
   ]
  },
  {
   "cell_type": "code",
   "execution_count": null,
   "id": "4e68dc0b",
   "metadata": {
    "colab": {
     "base_uri": "https://localhost:8080/"
    },
    "id": "4e68dc0b",
    "outputId": "74a5aed5-1387-4d50-d73f-df9e4be09421"
   },
   "outputs": [],
   "source": [
    "## It will give unique value w.r.t each column\n",
    "\n",
    "data.nunique()"
   ]
  },
  {
   "cell_type": "code",
   "execution_count": null,
   "id": "8b0dc6a0",
   "metadata": {
    "colab": {
     "base_uri": "https://localhost:8080/",
     "height": 895
    },
    "id": "8b0dc6a0",
    "outputId": "5e4758b8-ae38-4789-ec44-7226e35c2702"
   },
   "outputs": [],
   "source": [
    "# To check Correlation in the data\n",
    "\n",
    "data.corr()"
   ]
  },
  {
   "cell_type": "code",
   "execution_count": null,
   "id": "96954057",
   "metadata": {
    "colab": {
     "base_uri": "https://localhost:8080/",
     "height": 1000
    },
    "id": "96954057",
    "outputId": "857fd491-2074-4ba5-dc48-bbef1483245c",
    "scrolled": true
   },
   "outputs": [],
   "source": [
    "\n",
    "#Constructing a heat map to visualize the correlation matrix\n",
    "plt.figure(figsize=(20,20))\n",
    "corrMatrix = data.corr()\n",
    "sns.heatmap(corrMatrix, cbar=True, fmt='.1f', annot=True, cmap='Blues')\n"
   ]
  },
  {
   "cell_type": "markdown",
   "id": "2c19314e",
   "metadata": {
    "id": "2c19314e"
   },
   "source": [
    "Analysis of Correlation Matrix\n",
    "\n",
    "Correraletion matrix tells us which features are correlated. Whenever we having a strong correlation between the different features, we can remove those features. Instead of taking all features, we can take one feature. So we dont want multiple features which are very similar to each other."
   ]
  },
  {
   "cell_type": "markdown",
   "id": "312abbb2",
   "metadata": {
    "id": "312abbb2"
   },
   "source": [
    "Inference:-\n",
    "    \n",
    "1. BirthRate is highly correlated with Infant Mortality Rate and Population 0-14.\n",
    "\n",
    "2. Co2 Emission, Energy Usage, GDP, Tourism Inbound and Tourism Outbound are highly correlated.\n",
    "\n",
    "3. Life Expectancy Male is highly correlated with Life Expectancy Female."
   ]
  },
  {
   "cell_type": "markdown",
   "id": "f675f98d",
   "metadata": {
    "id": "f675f98d"
   },
   "source": [
    "# SKEW"
   ]
  },
  {
   "cell_type": "code",
   "execution_count": null,
   "id": "5f231602",
   "metadata": {
    "colab": {
     "base_uri": "https://localhost:8080/"
    },
    "id": "5f231602",
    "outputId": "17b68110-aad8-4670-910d-0bc1beb1f0aa"
   },
   "outputs": [],
   "source": [
    "## To check the skewness distribution of the data.\n",
    "\n",
    "data.skew()"
   ]
  },
  {
   "cell_type": "markdown",
   "id": "c69b8adc",
   "metadata": {
    "id": "c69b8adc"
   },
   "source": [
    "Normal Distribution :- Birth Rate, Health Exp % GDP, Mobile Phone Usage, Population 0-14, \n",
    "    \n",
    "Approximately Normal Distribution :- Population 65+, Population Urban\n",
    "    \n",
    "Positively Skewed Data :- Business Tax Rate, Co2 Emissions, Days To start business, Ease of Business, Energy Usage, GDP, Health Exp/Capita, Hours to do Tax, Infant Mortality Rate, Internet Usage, Lending Interest,  Population Total, Tourism Inbound, Tourism Outbound\n",
    "    \n",
    "Negatively Skewed Data :- Life Expectancy Female, Life Expectancy Male, Population 15-64\n",
    "    \n"
   ]
  },
  {
   "cell_type": "markdown",
   "id": "b579db80",
   "metadata": {
    "id": "b579db80"
   },
   "source": [
    "Distribution on the basis of skewness value:\n",
    "\n",
    "Skewness = 0: Then normally distributed.\n",
    "\n",
    "Skewness > 0: Then more weight in the left tail of the distribution.\n",
    "\n",
    "Skewness < 0: Then more weight in the right tail of the distribution."
   ]
  },
  {
   "cell_type": "markdown",
   "id": "a5788d38",
   "metadata": {
    "id": "a5788d38"
   },
   "source": [
    "Inference:- The dataset contains more positively skewed data."
   ]
  },
  {
   "cell_type": "markdown",
   "id": "86284cfe",
   "metadata": {
    "id": "86284cfe"
   },
   "source": [
    "# KURTOSIS"
   ]
  },
  {
   "cell_type": "code",
   "execution_count": null,
   "id": "d2e28c4a",
   "metadata": {
    "colab": {
     "base_uri": "https://localhost:8080/"
    },
    "id": "d2e28c4a",
    "outputId": "7b4a59ec-afe1-4f8f-a684-a0ab96cd4b61"
   },
   "outputs": [],
   "source": [
    "data.kurtosis()"
   ]
  },
  {
   "cell_type": "markdown",
   "id": "24e34f19",
   "metadata": {
    "id": "24e34f19"
   },
   "source": [
    "kurtosis for normal distribution is equal to 3.\n",
    "\n",
    "For a distribution having kurtosis < 3: It is called platykurtic.\n",
    "\n",
    "For a distribution having kurtosis > 3, It is called leptokurtic and it signifies that it tries to produce more outliers rather than the normal distribution."
   ]
  },
  {
   "cell_type": "markdown",
   "id": "2405de92",
   "metadata": {
    "id": "2405de92"
   },
   "source": [
    "Inference :-\n",
    "    \n",
    "The columns which having more outliers are \n",
    "\n",
    "Co2 Emissions, \n",
    "\n",
    "Days to start Business, \n",
    "\n",
    "Energy Usage, GDP, \n",
    "\n",
    "Population Total, \n",
    "\n",
    "Tourism Inbound, \n",
    "\n",
    "Lending Interest."
   ]
  },
  {
   "cell_type": "code",
   "execution_count": null,
   "id": "f39c1006",
   "metadata": {
    "colab": {
     "base_uri": "https://localhost:8080/"
    },
    "id": "f39c1006",
    "outputId": "9bcdaf87-14b5-4072-946c-956a866e21c8"
   },
   "outputs": [],
   "source": [
    "data['Country'].value_counts()"
   ]
  },
  {
   "cell_type": "markdown",
   "id": "372e04ba",
   "metadata": {
    "id": "372e04ba"
   },
   "source": [
    "# Power Transformation For avoiding Skewness in data"
   ]
  },
  {
   "cell_type": "code",
   "execution_count": null,
   "id": "00291492",
   "metadata": {
    "colab": {
     "base_uri": "https://localhost:8080/"
    },
    "id": "00291492",
    "outputId": "23727d6d-22ef-40e1-ba44-956b784a9f0f"
   },
   "outputs": [],
   "source": [
    "from sklearn.preprocessing import PowerTransformer\n",
    "from scipy.stats import  skew,norm\n",
    "\n",
    "# find numeric features in your dataset to transform\n",
    "numeric_feats = data.dtypes[data.dtypes != \"object\"].index\n",
    "\n",
    "# calculate skew of all numeric features\n",
    "skewed_feats = data[numeric_feats].apply(lambda x: skew(x.dropna())).sort_values(ascending=False)\n",
    "\n",
    "# convert to dataframe for easier processing\n",
    "skewness = pd.DataFrame({'Skew' :skewed_feats})\n",
    "\n",
    "# print performance before transform\n",
    "print(\"Pre: There are {} skewed numerical features to Power transform\".format(skewness.shape[0]))\n",
    "print(\"Pre\", abs(skewness.Skew).mean())\n",
    "\n",
    "\n",
    "# transform data\n",
    "pt = PowerTransformer(method='yeo-johnson').fit(data.iloc[:,:-1])\n",
    "#pt = PowerTransformer(method='yeo-johnson').fit(X)\n",
    "X = pd.DataFrame(pt.transform(data.iloc[:,:-1]), index=data.iloc[:,:-1].index, columns=data.iloc[:,:-1].columns)\n",
    "\n",
    "numeric_feats = X.dtypes[X.dtypes != \"object\"].index\n",
    "skewed_feats = X[numeric_feats].apply(lambda x: skew(x.dropna())).sort_values(ascending=False)\n",
    "skewness = pd.DataFrame({'Skew' :skewed_feats})\n",
    "\n",
    "# print performance after transform\n",
    "print(\"Post: There are {} skewed numerical features to Box Cox transform\".format(skewness.shape[0]))\n",
    "print(\"Post\", abs(skewness.Skew).mean())\n"
   ]
  },
  {
   "cell_type": "markdown",
   "id": "ff3d8362",
   "metadata": {
    "id": "ff3d8362"
   },
   "source": [
    "# Graphical Analysis"
   ]
  },
  {
   "cell_type": "code",
   "execution_count": null,
   "id": "f62acbb3",
   "metadata": {
    "id": "f62acbb3"
   },
   "outputs": [],
   "source": [
    "df_train=X"
   ]
  },
  {
   "cell_type": "code",
   "execution_count": null,
   "id": "76a010b5",
   "metadata": {
    "id": "76a010b5"
   },
   "outputs": [],
   "source": [
    "df_train.columns=['Birth Rate', 'Business Tax Rate', 'CO2 Emissions', \n",
    "       'Days to Start Business', 'Ease of Business', 'Energy Usage', 'GDP',\n",
    "       'Health Exp % GDP', 'Health Exp/Capita', 'Hours to do Tax',\n",
    "       'Infant Mortality Rate', 'Internet Usage', 'Lending Interest',\n",
    "       'Life Expectancy Female', 'Life Expectancy Male', 'Mobile Phone Usage',\n",
    "       'Number of Records', 'Population 0-14', 'Population 15-64',\n",
    "       'Population 65+', 'Population Total', 'Population Urban',\n",
    "       'Tourism Inbound', 'Tourism Outbound']"
   ]
  },
  {
   "cell_type": "markdown",
   "id": "60625fdd",
   "metadata": {
    "id": "60625fdd"
   },
   "source": [
    "# Univariate Analysis of Numerical Features Before Outlier Removal"
   ]
  },
  {
   "cell_type": "code",
   "execution_count": null,
   "id": "95b941eb",
   "metadata": {
    "colab": {
     "base_uri": "https://localhost:8080/",
     "height": 1000
    },
    "id": "95b941eb",
    "outputId": "3020c28d-d15d-40ea-eeea-d1d039cc1379"
   },
   "outputs": [],
   "source": [
    "plt.figure(figsize=(15,20), facecolor='white')\n",
    "plt.suptitle('Univariate Analysis of Numerical Features', fontweight=\"bold\",fontsize=15, y=1)\n",
    "for i in range(0,len(numerical_col)):\n",
    "    plt.subplot(5,5,i+1)\n",
    "    sns.kdeplot(x=df_train[numerical_col[i]], shade=True, color='r', data=df_train)\n",
    "    plt.xlabel(numerical_col[i], fontsize=15)\n",
    "    plt.tight_layout()\n",
    "    \n",
    "    \n",
    "    \n"
   ]
  },
  {
   "cell_type": "markdown",
   "id": "4c816807",
   "metadata": {
    "id": "4c816807"
   },
   "source": [
    "Most of the Columns are approximately Normal Distribution after the skewness removal."
   ]
  },
  {
   "cell_type": "markdown",
   "id": "5302c05c",
   "metadata": {
    "id": "5302c05c"
   },
   "source": [
    "# Check distribution and outliers together"
   ]
  },
  {
   "cell_type": "markdown",
   "id": "3d92ed80",
   "metadata": {
    "id": "3d92ed80"
   },
   "source": [
    "Plots 2 graphs together"
   ]
  },
  {
   "cell_type": "code",
   "execution_count": null,
   "id": "a6065250",
   "metadata": {
    "colab": {
     "base_uri": "https://localhost:8080/",
     "height": 1000
    },
    "id": "a6065250",
    "outputId": "ae8e2453-efe1-4483-a729-097c9af07d32"
   },
   "outputs": [],
   "source": [
    "for fea in numerical_col:\n",
    "    plt.figure(figsize=(14,4))\n",
    "    plt.subplot(121)\n",
    "    sns.kdeplot(x=df_train[fea],color='r',data=df_train)\n",
    "    plt.title(\"Distribution of {}\".format(fea), fontweight='bold')\n",
    "    \n",
    "    plt.subplot(122)\n",
    "    sns.boxplot(x=fea, data= df_train[numerical_col])\n",
    "    plt.title(\"Distribution of {}\".format(fea), fontweight='bold')\n",
    "    plt.show()"
   ]
  },
  {
   "cell_type": "markdown",
   "id": "c8893bcd",
   "metadata": {
    "id": "c8893bcd"
   },
   "source": [
    "Inference:-\n",
    "    \n",
    "The columns having more outliers are:-\n",
    "\n",
    "1. Heaith Exp% GDP\n",
    "\n",
    "2. Infant Mortality Rate\n",
    "\n",
    "3. Business Tax Rate\n",
    "\n",
    "4. Co2 Emissions, and other Leptokurtic columns\n",
    "\n",
    "\n"
   ]
  },
  {
   "cell_type": "markdown",
   "id": "cc725a7e",
   "metadata": {
    "id": "cc725a7e"
   },
   "source": [
    "# Handling Outliers"
   ]
  },
  {
   "cell_type": "code",
   "execution_count": null,
   "id": "31953e1d",
   "metadata": {
    "id": "31953e1d"
   },
   "outputs": [],
   "source": [
    "data = df_train"
   ]
  },
  {
   "cell_type": "code",
   "execution_count": null,
   "id": "6a5ec0a0",
   "metadata": {
    "id": "6a5ec0a0"
   },
   "outputs": [],
   "source": [
    "for fea in numerical_col:\n",
    "    IQR = data[fea].quantile(0.75)-data[fea].quantile(0.25)\n",
    "    Lower_Limit = data[fea].quantile(0.25)-1.5*IQR\n",
    "    Upper_Limit = data[fea].quantile(0.75)+1.5*IQR\n",
    "    data[fea]=np.where(data[fea]>Upper_Limit,Upper_Limit,np.where(data[fea]<Lower_Limit,Lower_Limit,data[fea]))\n",
    "#sns.boxplot(x=fea, data=data)"
   ]
  },
  {
   "cell_type": "code",
   "execution_count": null,
   "id": "962fa9f2",
   "metadata": {
    "colab": {
     "base_uri": "https://localhost:8080/",
     "height": 1000
    },
    "id": "962fa9f2",
    "outputId": "1c5b129f-f160-4312-c480-ac5cff102923"
   },
   "outputs": [],
   "source": [
    "for fea in numerical_col:\n",
    "    plt.figure(figsize=(14,4))\n",
    "    plt.subplot(121)\n",
    "    sns.kdeplot(x=data[fea],color='r',data=data)\n",
    "    plt.title(\"Distribution of {}\".format(fea), fontweight='bold')\n",
    "    \n",
    "    plt.subplot(122)\n",
    "    sns.boxplot(x=fea, data= data[numerical_col])\n",
    "    plt.title(\"Distribution of {}\".format(fea), fontweight='bold')\n",
    "    plt.show()"
   ]
  },
  {
   "cell_type": "markdown",
   "id": "f1223c9a",
   "metadata": {
    "id": "f1223c9a"
   },
   "source": [
    "# Univariate Analysis of Numerical Features After Outlier Removal"
   ]
  },
  {
   "cell_type": "code",
   "execution_count": null,
   "id": "b696cca9",
   "metadata": {
    "colab": {
     "base_uri": "https://localhost:8080/",
     "height": 1000
    },
    "id": "b696cca9",
    "outputId": "7f4659de-f1a2-4ce8-a5c1-9eb27eca900c"
   },
   "outputs": [],
   "source": [
    "plt.figure(figsize=(15,20), facecolor='white')\n",
    "plt.suptitle('Univariate Analysis of Numerical Features', fontweight=\"bold\",fontsize=15, y=1)\n",
    "for i in range(0,len(numerical_col)):\n",
    "    plt.subplot(5,5,i+1)\n",
    "    sns.kdeplot(x=data[numerical_col[i]], shade=True, color='r', data=data)\n",
    "    plt.xlabel(numerical_col[i], fontsize=15)\n",
    "    plt.tight_layout()"
   ]
  },
  {
   "cell_type": "markdown",
   "id": "21e0b281",
   "metadata": {
    "id": "21e0b281"
   },
   "source": [
    "# Q-Q Plot"
   ]
  },
  {
   "cell_type": "code",
   "execution_count": null,
   "id": "3f16ea88",
   "metadata": {
    "colab": {
     "base_uri": "https://localhost:8080/",
     "height": 1000
    },
    "id": "3f16ea88",
    "outputId": "de35aecd-b4c5-4be4-e0c1-a7846a27c477"
   },
   "outputs": [],
   "source": [
    "import statsmodels.api as sm\n",
    "   \n",
    "# Normal Q-Q plot\n",
    "for i in data.columns:\n",
    "    sm.qqplot(data[i], fit=True, line='45', c='#4C72B0')\n"
   ]
  },
  {
   "cell_type": "markdown",
   "id": "69e99c1f",
   "metadata": {
    "id": "69e99c1f"
   },
   "source": [
    "# Standardise the data"
   ]
  },
  {
   "cell_type": "code",
   "execution_count": null,
   "id": "15493536",
   "metadata": {
    "id": "15493536"
   },
   "outputs": [],
   "source": [
    "#Standardise the data\n",
    "\n",
    "scale = StandardScaler()\n",
    "data_norm = scale.fit_transform(data.iloc[:,:-1])\n"
   ]
  },
  {
   "cell_type": "code",
   "execution_count": null,
   "id": "833136ac",
   "metadata": {
    "colab": {
     "base_uri": "https://localhost:8080/"
    },
    "id": "833136ac",
    "outputId": "58bce19f-21ab-41ee-db28-ed5f10b6eaf4"
   },
   "outputs": [],
   "source": [
    "data_norm"
   ]
  },
  {
   "cell_type": "markdown",
   "id": "991c3c6f",
   "metadata": {
    "id": "991c3c6f"
   },
   "source": [
    "# PCA For avoiding Correlation"
   ]
  },
  {
   "cell_type": "code",
   "execution_count": null,
   "id": "0bd8c62b",
   "metadata": {
    "colab": {
     "base_uri": "https://localhost:8080/",
     "height": 361
    },
    "id": "0bd8c62b",
    "outputId": "2bebb563-7fd8-40cd-a9ed-ed153435fea1"
   },
   "outputs": [],
   "source": [
    "pca = PCA(n_components = 15)\n",
    "pca_data = pca.fit_transform(data_norm)\n",
    "\n",
    "percent_var_explained = pca.explained_variance_/(np.sum(pca.explained_variance_))\n",
    "cumm_var_explained = np.cumsum(percent_var_explained)\n",
    "\n",
    "plt.plot(cumm_var_explained)\n",
    "plt.grid()\n",
    "plt.xlabel(\"n_components\")\n",
    "plt.ylabel(\"% variance explained\")\n",
    "plt.show()"
   ]
  },
  {
   "cell_type": "code",
   "execution_count": null,
   "id": "5cf8febd",
   "metadata": {
    "colab": {
     "base_uri": "https://localhost:8080/"
    },
    "id": "5cf8febd",
    "outputId": "0b05af70-474d-41ea-9607-6c6f9271f9d4"
   },
   "outputs": [],
   "source": [
    "var=pca.explained_variance_ratio_\n",
    "var"
   ]
  },
  {
   "cell_type": "code",
   "execution_count": null,
   "id": "39458ffc",
   "metadata": {
    "colab": {
     "base_uri": "https://localhost:8080/"
    },
    "id": "39458ffc",
    "outputId": "e6750bae-e66e-4fb0-ef80-224bfc64c5d1"
   },
   "outputs": [],
   "source": [
    "cumm_var_explained"
   ]
  },
  {
   "cell_type": "code",
   "execution_count": null,
   "id": "252a9843",
   "metadata": {
    "colab": {
     "base_uri": "https://localhost:8080/"
    },
    "id": "252a9843",
    "outputId": "56292a0f-6788-42fb-be12-4ebed6d89f7c"
   },
   "outputs": [],
   "source": [
    "pca.explained_variance_"
   ]
  },
  {
   "cell_type": "code",
   "execution_count": null,
   "id": "307eeb17",
   "metadata": {
    "colab": {
     "base_uri": "https://localhost:8080/"
    },
    "id": "307eeb17",
    "outputId": "65cea08c-5e94-430b-b5eb-e284a72dd591"
   },
   "outputs": [],
   "source": [
    "var=pca.explained_variance_ratio_\n",
    "var"
   ]
  },
  {
   "cell_type": "code",
   "execution_count": null,
   "id": "VMizVGCm-Ww-",
   "metadata": {
    "colab": {
     "base_uri": "https://localhost:8080/"
    },
    "id": "VMizVGCm-Ww-",
    "outputId": "7641bb8f-e0d9-4f7e-a93a-50f6c7838454"
   },
   "outputs": [],
   "source": [
    "var1=np.cumsum(np.round(var,4)*100)\n",
    "var1"
   ]
  },
  {
   "cell_type": "code",
   "execution_count": null,
   "id": "7Nf08YUg-bfh",
   "metadata": {
    "colab": {
     "base_uri": "https://localhost:8080/"
    },
    "id": "7Nf08YUg-bfh",
    "outputId": "1f8359a1-f0b6-4c15-8c5f-d057488c9a32"
   },
   "outputs": [],
   "source": [
    "var1[14]"
   ]
  },
  {
   "cell_type": "code",
   "execution_count": null,
   "id": "1b946059",
   "metadata": {
    "colab": {
     "base_uri": "https://localhost:8080/"
    },
    "id": "1b946059",
    "outputId": "315e67d5-5959-4a4e-f57b-fc6e5783de94"
   },
   "outputs": [],
   "source": [
    "sum(pca.explained_variance_ratio_)"
   ]
  },
  {
   "cell_type": "markdown",
   "id": "waSdo2wW-np6",
   "metadata": {
    "id": "waSdo2wW-np6"
   },
   "source": [
    "#Almost 98% of variance is explained with 15 new principal components"
   ]
  },
  {
   "cell_type": "code",
   "execution_count": null,
   "id": "a5df1774",
   "metadata": {
    "colab": {
     "base_uri": "https://localhost:8080/"
    },
    "id": "a5df1774",
    "outputId": "1b0c3193-a8e5-4211-85f1-e67314da3db4"
   },
   "outputs": [],
   "source": [
    "data1['Country']"
   ]
  },
  {
   "cell_type": "code",
   "execution_count": null,
   "id": "bb88fd0b",
   "metadata": {
    "colab": {
     "base_uri": "https://localhost:8080/",
     "height": 959
    },
    "id": "bb88fd0b",
    "outputId": "7158e4af-4945-4b3b-b542-8e992876d1fc"
   },
   "outputs": [],
   "source": [
    "df_train_pca = pd.DataFrame(pca_data)\n",
    "df_train_pca[\"Country\"] = data1['Country']\n",
    "\n",
    "corr = df_train_pca.corr()\n",
    "\n",
    "plt.figure(figsize = (22,20))\n",
    "\n",
    "sns.heatmap(corr, annot = True, vmin=-1, vmax=1, cmap=\"YlGnBu\", linewidths=.5)\n",
    "plt.grid(b=True, color='#f68c1f', alpha=0.1)\n",
    "plt.show()"
   ]
  },
  {
   "cell_type": "markdown",
   "id": "b1027a7e",
   "metadata": {
    "id": "b1027a7e"
   },
   "source": [
    "No columns are correlated after PCA"
   ]
  },
  {
   "cell_type": "code",
   "execution_count": null,
   "id": "9212ed81",
   "metadata": {
    "id": "9212ed81"
   },
   "outputs": [],
   "source": [
    "df_train_pca.columns=[\"PCA0\",\"PCA1\",\"PCA2\",\"PCA3\",\"PCA4\",\"PCA5\",\"PCA6\",\"PCA7\",\"PCA8\",\"PCA9\",\"PCA10\",\"PCA11\",\"PCA12\",\"PCA13\",\"PCA14\",\"Country\"]"
   ]
  },
  {
   "cell_type": "code",
   "execution_count": null,
   "id": "3e42e7c7",
   "metadata": {
    "colab": {
     "base_uri": "https://localhost:8080/",
     "height": 609
    },
    "id": "3e42e7c7",
    "outputId": "b5494bac-144f-4e03-f39f-eeea4cb5666b"
   },
   "outputs": [],
   "source": [
    "df_train_pca"
   ]
  },
  {
   "cell_type": "markdown",
   "id": "40fe6e62",
   "metadata": {
    "id": "40fe6e62"
   },
   "source": [
    "# Summary Of EDA"
   ]
  },
  {
   "cell_type": "markdown",
   "id": "e6a28872",
   "metadata": {
    "id": "e6a28872"
   },
   "source": [
    "1. Lot of missing values are there. Imputed with KNN.\n",
    "\n",
    "2. All are numerical values except for Country column.\n",
    "\n",
    "3. Mean is slightly more than median for most of the features. So it is right skewed. Skewness handled using PowerTransformer.\n",
    "\n",
    "4. 10 columns are highly correlated. For removing correlation PCA used.\n",
    "\n",
    "5. Most of the columns are LeptoKurtic.\n",
    "\n",
    "6. All Leptokurtic columns and few Platykurtic columns have Outliers. Outliers are handled and plotted using box plot.\n",
    "\n",
    "7. Standardised the data using Standard Scalar."
   ]
  },
  {
   "cell_type": "markdown",
   "id": "36124566",
   "metadata": {
    "id": "36124566"
   },
   "source": [
    "# Finding out the optimal number of clusters"
   ]
  },
  {
   "cell_type": "code",
   "execution_count": null,
   "id": "52ae57bf",
   "metadata": {
    "colab": {
     "base_uri": "https://localhost:8080/",
     "height": 609
    },
    "id": "52ae57bf",
    "outputId": "9f1b3686-ea8e-4027-e1ac-69acf3f0cb67"
   },
   "outputs": [],
   "source": [
    "df_train_pca"
   ]
  },
  {
   "cell_type": "code",
   "execution_count": null,
   "id": "NAq__yaec3Xi",
   "metadata": {
    "id": "NAq__yaec3Xi"
   },
   "outputs": [],
   "source": [
    "data_df=df_train_pca.copy()"
   ]
  },
  {
   "cell_type": "code",
   "execution_count": null,
   "id": "9808318e",
   "metadata": {
    "colab": {
     "base_uri": "https://localhost:8080/",
     "height": 512
    },
    "id": "9808318e",
    "outputId": "33aca063-4136-4e32-f505-6792e749ac6e"
   },
   "outputs": [],
   "source": [
    "#Kmeans clustering is used to choose centroid that minimize inertia or within cluster sum-of-squares criteria\n",
    "\n",
    "plt.figure(figsize=(10, 8))\n",
    "wcss = []\n",
    "for i in range(1, 15):\n",
    "    kmeans = KMeans(n_clusters = i, init = 'k-means++', random_state = 42)\n",
    "    kmeans.fit(df_train_pca.iloc[:,:-1])\n",
    "    wcss.append(kmeans.inertia_)\n",
    "plt.plot(range(1, 15), wcss)\n",
    "plt.title('The Elbow Method')\n",
    "plt.xlabel('Number of clusters')\n",
    "plt.ylabel('WCSS')\n",
    "plt.show()"
   ]
  },
  {
   "cell_type": "code",
   "execution_count": null,
   "id": "9c8e1651",
   "metadata": {
    "colab": {
     "base_uri": "https://localhost:8080/"
    },
    "id": "9c8e1651",
    "outputId": "7f23d890-322a-40c9-f9fa-7092670e7b00"
   },
   "outputs": [],
   "source": [
    "!pip install yellowbrick"
   ]
  },
  {
   "cell_type": "code",
   "execution_count": null,
   "id": "f387571a",
   "metadata": {
    "id": "f387571a"
   },
   "outputs": [],
   "source": [
    "from sklearn.cluster import KMeans\n",
    "from yellowbrick.cluster import KElbowVisualizer"
   ]
  },
  {
   "cell_type": "code",
   "execution_count": null,
   "id": "5472da3e",
   "metadata": {
    "id": "5472da3e"
   },
   "outputs": [],
   "source": [
    "km = KMeans(random_state=42)\n",
    "visualizer = KElbowVisualizer(km, k =(2,10))"
   ]
  },
  {
   "cell_type": "code",
   "execution_count": null,
   "id": "lyG1b8slev8g",
   "metadata": {
    "colab": {
     "base_uri": "https://localhost:8080/",
     "height": 393
    },
    "id": "lyG1b8slev8g",
    "outputId": "7b4bdbf3-43ba-4104-9fbe-8dd86d7c5291"
   },
   "outputs": [],
   "source": [
    "visualizer.fit((df_train_pca.iloc[:,:-1]))\n",
    "visualizer.show()"
   ]
  },
  {
   "cell_type": "markdown",
   "id": "NzBiKGoYfBzd",
   "metadata": {
    "id": "NzBiKGoYfBzd"
   },
   "source": [
    "Here, it is not clear what should be the Elbow point.\n",
    "\n",
    "Let’s validate the value of K using the Silhouette plot"
   ]
  },
  {
   "cell_type": "code",
   "execution_count": null,
   "id": "Klud5PS8e3VI",
   "metadata": {
    "colab": {
     "base_uri": "https://localhost:8080/",
     "height": 570
    },
    "id": "Klud5PS8e3VI",
    "outputId": "87d6d94f-f794-4fee-b38b-e02d936dd728"
   },
   "outputs": [],
   "source": [
    "\n",
    "\n",
    "fig, ax = plt.subplots(3, 2, figsize=(15,8))\n",
    "for i in [2, 3, 4, 5, 6]:\n",
    "    '''\n",
    "    Create KMeans instances for different number of clusters\n",
    "    '''\n",
    "    km = KMeans(n_clusters=i, init='k-means++', n_init=10, max_iter=100, random_state=42)\n",
    "    q, mod = divmod(i, 2)\n",
    "\n",
    "     #Fit the KMeans model\n",
    "    km.fit_predict(df_train_pca.iloc[:,:-1])\n",
    "    '''\n",
    "    Create SilhouetteVisualizer instance with KMeans instance\n",
    "    Fit the visualizer\n",
    "    '''\n",
    "    visualizer = SilhouetteVisualizer(km, colors='yellowbrick', ax=ax[q-1][mod])\n",
    "\n",
    "\n",
    "\n",
    "    # Calculate Silhoutte Score\n",
    "    score = silhouette_score(df_train_pca.iloc[:,:-1],  km.labels_,  metric='euclidean')\n",
    "\n",
    "    print('Silhouetter Score: %.3f' % score)\n",
    "    visualizer.fit(df_train_pca.iloc[:,:-1]) "
   ]
  },
  {
   "cell_type": "markdown",
   "id": "U-vV1aoQgE95",
   "metadata": {
    "id": "U-vV1aoQgE95"
   },
   "source": [
    "Executing the above code will result in the following Silhouette plots for 2, 3, 4, 5, and 6 clusters. Silhoutte analysis is used to select an optimal value for n_clusters.\n",
    "\n",
    " Selecting optimal value for n_clusters is based on Silhoutte score and fluctuation in the size of silhoutte plots.\n",
    "\n",
    "Here the silhoutte score is high for cluster 2 but the fluctuation is wider. The cluster 5 which has good silhoutte score and also the thickness of the silhoutte plot is more uniform.\n",
    "\n",
    "Thus we can select optimal number of clusters as 5."
   ]
  },
  {
   "cell_type": "code",
   "execution_count": null,
   "id": "4Ikb8aXyfPOa",
   "metadata": {
    "id": "4Ikb8aXyfPOa"
   },
   "outputs": [],
   "source": [
    "data1=df_train_pca.iloc[:,:-1].copy()"
   ]
  },
  {
   "cell_type": "code",
   "execution_count": null,
   "id": "pzL86v5VgmOk",
   "metadata": {
    "id": "pzL86v5VgmOk"
   },
   "outputs": [],
   "source": [
    "data2 = df_train_pca.iloc[:,:-1]"
   ]
  },
  {
   "cell_type": "code",
   "execution_count": null,
   "id": "q8PvpzQNgQ5n",
   "metadata": {
    "colab": {
     "base_uri": "https://localhost:8080/",
     "height": 817
    },
    "id": "q8PvpzQNgQ5n",
    "outputId": "0c41fbcc-888e-47ed-efa1-b6536287fde0"
   },
   "outputs": [],
   "source": [
    "import plotly.graph_objects as go  #for 3D plot\n",
    "\n",
    "## K-means using k = 3\n",
    "kmeans = KMeans(n_clusters=5)\n",
    "kmeans.fit(data2)\n",
    "y_kmeans = kmeans.predict(data2)\n",
    "\n",
    "## 3D plot \n",
    "\n",
    "labels = kmeans.labels_\n",
    "trace = go.Scatter3d(x=data2.iloc[:, 0].values, y=data2.iloc[:, 1].values, z=data2.iloc[:, 2].values, mode='markers',marker=dict(color = labels, size= 10, line=dict(color= 'black',width = 10)))\n",
    "layout = go.Layout(margin=dict(l=0,r=0),height = 800,width = 800)\n",
    "data = [trace]\n",
    "fig = go.Figure(data = data, layout = layout)\n",
    "fig.show()"
   ]
  },
  {
   "cell_type": "markdown",
   "id": "gZ6e6cZHhLu8",
   "metadata": {
    "id": "gZ6e6cZHhLu8"
   },
   "source": [
    "# CLUSTERING ALGORITHMS"
   ]
  },
  {
   "cell_type": "markdown",
   "id": "nY1EHHvThRHx",
   "metadata": {
    "id": "nY1EHHvThRHx"
   },
   "source": [
    "# K-MEANS"
   ]
  },
  {
   "cell_type": "code",
   "execution_count": null,
   "id": "K7tBLA5fhphs",
   "metadata": {
    "colab": {
     "base_uri": "https://localhost:8080/",
     "height": 488
    },
    "id": "K7tBLA5fhphs",
    "outputId": "19d04ce5-4229-4968-96a9-dae6a0894ded"
   },
   "outputs": [],
   "source": [
    "data1"
   ]
  },
  {
   "cell_type": "code",
   "execution_count": null,
   "id": "ypgc68vrg2Dr",
   "metadata": {
    "id": "ypgc68vrg2Dr"
   },
   "outputs": [],
   "source": [
    "kmeans = KMeans(n_clusters = 5, init = 'k-means++', random_state = 42)\n",
    "y_kmeans = kmeans.fit_predict(data1)"
   ]
  },
  {
   "cell_type": "code",
   "execution_count": null,
   "id": "fcSEI-oBhYHu",
   "metadata": {
    "colab": {
     "base_uri": "https://localhost:8080/"
    },
    "id": "fcSEI-oBhYHu",
    "outputId": "e6d6c3bd-6be7-45a1-a14a-5b57f110f428"
   },
   "outputs": [],
   "source": [
    "y_kmeans"
   ]
  },
  {
   "cell_type": "code",
   "execution_count": null,
   "id": "miZdIpX5hzBp",
   "metadata": {
    "id": "miZdIpX5hzBp"
   },
   "outputs": [],
   "source": [
    "cluster = list(y_kmeans)"
   ]
  },
  {
   "cell_type": "code",
   "execution_count": null,
   "id": "wWffyFG5l5Zz",
   "metadata": {
    "id": "wWffyFG5l5Zz"
   },
   "outputs": [],
   "source": [
    "data1['cluster'] = cluster"
   ]
  },
  {
   "cell_type": "code",
   "execution_count": null,
   "id": "JVnV7I3Xl8Dj",
   "metadata": {
    "colab": {
     "base_uri": "https://localhost:8080/",
     "height": 237
    },
    "id": "JVnV7I3Xl8Dj",
    "outputId": "6dbdcf0d-8197-4cdc-dcf8-99469bad1d38"
   },
   "outputs": [],
   "source": [
    "kmeans_mean_cluster = pd.DataFrame(round(data1.groupby('cluster').mean(),1))\n",
    "kmeans_mean_cluster"
   ]
  },
  {
   "cell_type": "code",
   "execution_count": null,
   "id": "58V6wZqCl_MR",
   "metadata": {
    "colab": {
     "base_uri": "https://localhost:8080/",
     "height": 364
    },
    "id": "58V6wZqCl_MR",
    "outputId": "caf20e7a-6b33-4292-9295-c0fb6216af35"
   },
   "outputs": [],
   "source": [
    "plt.scatter(data1.iloc[:, 0].values, data1.iloc[:, 1].values, c=y_kmeans, s=50, cmap='viridis')"
   ]
  },
  {
   "cell_type": "markdown",
   "id": "lwy4MglJmMsQ",
   "metadata": {
    "id": "lwy4MglJmMsQ"
   },
   "source": [
    "# DBScan"
   ]
  },
  {
   "cell_type": "code",
   "execution_count": null,
   "id": "Q8FvwwKmmDTh",
   "metadata": {
    "id": "Q8FvwwKmmDTh"
   },
   "outputs": [],
   "source": [
    "data_df2=data_df.iloc[:,:-1].copy()"
   ]
  },
  {
   "cell_type": "code",
   "execution_count": null,
   "id": "TjOv9zcgmJYV",
   "metadata": {
    "colab": {
     "base_uri": "https://localhost:8080/",
     "height": 488
    },
    "id": "TjOv9zcgmJYV",
    "outputId": "4caa67bf-62b1-40ef-d9ad-7b7a79399f75"
   },
   "outputs": [],
   "source": [
    "data_df2"
   ]
  },
  {
   "cell_type": "code",
   "execution_count": null,
   "id": "9r5p-jXRt4sE",
   "metadata": {
    "colab": {
     "base_uri": "https://localhost:8080/"
    },
    "id": "9r5p-jXRt4sE",
    "outputId": "dd6e7fa8-ae13-4151-ee33-c4cf5a4457a9"
   },
   "outputs": [],
   "source": [
    "# we have 15 columns so we take min_samples as 15 and epsilon=n-1 ie 15-1 = 14\n",
    "\n",
    "db=DBSCAN(eps=14,min_samples=15)\n",
    "db.fit(data_df2)"
   ]
  },
  {
   "cell_type": "code",
   "execution_count": null,
   "id": "bg-a9pHVu0eC",
   "metadata": {
    "colab": {
     "base_uri": "https://localhost:8080/"
    },
    "id": "bg-a9pHVu0eC",
    "outputId": "cebff19e-6b35-4346-feae-5ddb501c8e22"
   },
   "outputs": [],
   "source": [
    "db.labels_"
   ]
  },
  {
   "cell_type": "code",
   "execution_count": null,
   "id": "JrNM8prJu6Aa",
   "metadata": {
    "id": "JrNM8prJu6Aa"
   },
   "outputs": [],
   "source": [
    "#Assign clusters to the dataset\n",
    "\n",
    "data_df2['clusterid_new']=db.labels_"
   ]
  },
  {
   "cell_type": "code",
   "execution_count": null,
   "id": "dgqEf3Xfu8jr",
   "metadata": {
    "colab": {
     "base_uri": "https://localhost:8080/",
     "height": 488
    },
    "id": "dgqEf3Xfu8jr",
    "outputId": "9c81089d-4f6e-46b5-f774-6a2696a1d394"
   },
   "outputs": [],
   "source": [
    "data_df2"
   ]
  },
  {
   "cell_type": "code",
   "execution_count": null,
   "id": "xEK2bPW_vBjo",
   "metadata": {
    "colab": {
     "base_uri": "https://localhost:8080/",
     "height": 193
    },
    "id": "xEK2bPW_vBjo",
    "outputId": "fac690d8-4039-4a26-e7ed-3bf1fb50d9ce"
   },
   "outputs": [],
   "source": [
    "data_df2.groupby('clusterid_new').agg(['mean']).reset_index()"
   ]
  },
  {
   "cell_type": "code",
   "execution_count": null,
   "id": "e6Qv7NgavEn7",
   "metadata": {
    "colab": {
     "base_uri": "https://localhost:8080/",
     "height": 488
    },
    "id": "e6Qv7NgavEn7",
    "outputId": "56dee6d4-f6b7-4991-d5c8-782ec924f1a3"
   },
   "outputs": [],
   "source": [
    "data_df2[data_df2['clusterid_new']==0]"
   ]
  },
  {
   "cell_type": "markdown",
   "id": "f4nyRVAzvKt7",
   "metadata": {
    "id": "f4nyRVAzvKt7"
   },
   "source": [
    "These are 1 cluster"
   ]
  },
  {
   "cell_type": "code",
   "execution_count": null,
   "id": "VKhPxOluvIPx",
   "metadata": {
    "colab": {
     "base_uri": "https://localhost:8080/",
     "height": 49
    },
    "id": "VKhPxOluvIPx",
    "outputId": "89ac3221-e856-41af-9689-98880f20ccdc"
   },
   "outputs": [],
   "source": [
    "data_df2[data_df2['clusterid_new']==-1]"
   ]
  },
  {
   "cell_type": "markdown",
   "id": "cH4q_wTqvReo",
   "metadata": {
    "id": "cH4q_wTqvReo"
   },
   "source": [
    "There is no Noise"
   ]
  },
  {
   "cell_type": "markdown",
   "id": "OEfYgzixvVEi",
   "metadata": {
    "id": "OEfYgzixvVEi"
   },
   "source": [
    "# Heirarchial"
   ]
  },
  {
   "cell_type": "code",
   "execution_count": null,
   "id": "RHeE2LbJvNjA",
   "metadata": {
    "colab": {
     "base_uri": "https://localhost:8080/",
     "height": 348
    },
    "id": "RHeE2LbJvNjA",
    "outputId": "13e192a1-ac51-4506-d69d-50f3bdd4a5ac"
   },
   "outputs": [],
   "source": [
    "dendrogram = sch.dendrogram(sch.linkage(data_df.iloc[:,:-1], method='ward'))"
   ]
  },
  {
   "cell_type": "code",
   "execution_count": null,
   "id": "cKroQcIwwMpb",
   "metadata": {
    "colab": {
     "base_uri": "https://localhost:8080/"
    },
    "id": "cKroQcIwwMpb",
    "outputId": "c6f2edae-a40f-4d3e-ca8c-297500bea718"
   },
   "outputs": [],
   "source": [
    "for i in range(3,10):\n",
    "    hclusters=AgglomerativeClustering(n_clusters=i ,affinity='euclidean',linkage='ward')\n",
    "    for j in range(5,12):\n",
    "        y=pd.DataFrame(hclusters.fit_predict(data_df.iloc[:,:j]),columns=['H_clusters'])\n",
    "        print(\"Cluster ValueCount : \")\n",
    "        print(y['H_clusters'].value_counts())\n",
    "        Hr_score = silhouette_score(data_df.iloc[:,:-1], hclusters.labels_, metric='euclidean')\n",
    "        print(round(Hr_score,2),\"for\",i,\"clusters and\",j,\"Principle components\")\n",
    "\n",
    "        "
   ]
  },
  {
   "cell_type": "code",
   "execution_count": null,
   "id": "atcGSIgF_DIy",
   "metadata": {
    "colab": {
     "base_uri": "https://localhost:8080/"
    },
    "id": "atcGSIgF_DIy",
    "outputId": "1abcf880-6b95-426e-ea16-52188d507c9d"
   },
   "outputs": [],
   "source": [
    "\n",
    "\n",
    "\n",
    "\n",
    "for i in [3, 4, 5, 6, 7, 8, 9, 10]:\n",
    "    '''\n",
    "    Create KMeans instances for different number of clusters\n",
    "    '''\n",
    "    hclusters=AgglomerativeClustering(n_clusters=i ,affinity='euclidean',linkage='ward')\n",
    "    \n",
    "\n",
    "    \n",
    "    hclusters.fit_predict(data_df.iloc[:,:-1])\n",
    "\n",
    "    \n",
    "  \n",
    "    \n",
    "\n",
    "\n",
    "\n",
    "    # Calculate Silhoutte Score\n",
    "    score = silhouette_score(data_df.iloc[:,:-1],  hclusters.labels_,  metric='euclidean')\n",
    "\n",
    "    print(i ,\"Cluster\")\n",
    "    print('Silhouetter Score : %.3f' % score)\n"
   ]
  },
  {
   "cell_type": "markdown",
   "id": "Z1H1TwdO85Se",
   "metadata": {
    "id": "Z1H1TwdO85Se"
   },
   "source": [
    "# 0.16 silhouette score for 4 clusters and 8 PCA features is good fit"
   ]
  },
  {
   "cell_type": "code",
   "execution_count": null,
   "id": "79TjyxSQ1nfD",
   "metadata": {
    "colab": {
     "base_uri": "https://localhost:8080/"
    },
    "id": "79TjyxSQ1nfD",
    "outputId": "4a862564-3c4d-43d6-ca7f-7b219eeaeb0b"
   },
   "outputs": [],
   "source": [
    "hclusters=AgglomerativeClustering(n_clusters=4,affinity='euclidean',linkage='ward')\n",
    "hclusters"
   ]
  },
  {
   "cell_type": "code",
   "execution_count": null,
   "id": "4Re-ZTaoDGV9",
   "metadata": {
    "id": "4Re-ZTaoDGV9"
   },
   "outputs": [],
   "source": [
    "dat = data_df.iloc[:,:8]"
   ]
  },
  {
   "cell_type": "code",
   "execution_count": null,
   "id": "BKCoX4xQ9BxE",
   "metadata": {
    "colab": {
     "base_uri": "https://localhost:8080/"
    },
    "id": "BKCoX4xQ9BxE",
    "outputId": "ba6a9d67-114a-42de-a1ea-688955c48677"
   },
   "outputs": [],
   "source": [
    "y=pd.DataFrame(hclusters.fit_predict(dat),columns=['H_clusters'])\n",
    "y['H_clusters'].value_counts()"
   ]
  },
  {
   "cell_type": "code",
   "execution_count": null,
   "id": "qaM9UCqt9NJq",
   "metadata": {
    "colab": {
     "base_uri": "https://localhost:8080/",
     "height": 424
    },
    "id": "qaM9UCqt9NJq",
    "outputId": "f7646b3b-d903-4642-fb64-fac944f379a1"
   },
   "outputs": [],
   "source": [
    "\n",
    "dat['H_cluster']=hclusters.labels_\n",
    "dat"
   ]
  },
  {
   "cell_type": "code",
   "execution_count": null,
   "id": "gIhJ-pRsEHTS",
   "metadata": {
    "colab": {
     "base_uri": "https://localhost:8080/",
     "height": 206
    },
    "id": "gIhJ-pRsEHTS",
    "outputId": "a32e0f13-9876-45da-e6f7-e2450ad00ba6"
   },
   "outputs": [],
   "source": [
    "dat.groupby('H_cluster').agg(['mean']).reset_index()"
   ]
  },
  {
   "cell_type": "code",
   "execution_count": null,
   "id": "0zErUyUJC1_A",
   "metadata": {
    "colab": {
     "base_uri": "https://localhost:8080/",
     "height": 364
    },
    "id": "0zErUyUJC1_A",
    "outputId": "d6718c4e-ec4d-44b9-fbfd-5880c17dd782"
   },
   "outputs": [],
   "source": [
    "plt.scatter(dat.iloc[labels==0, 0].values,dat.iloc[labels==0, 1].values, s=50, marker='o', color='red')\n",
    "plt.scatter(dat.iloc[labels==1, 0].values, dat.iloc[labels==1, 1].values, s=50, marker='o', color='blue')\n",
    "plt.scatter(dat.iloc[labels==2, 0].values, dat.iloc[labels==2, 1].values, s=50, marker='o', color='green')\n",
    "plt.scatter(dat.iloc[labels==3, 0].values, dat.iloc[labels==3, 1].values, s=50, marker='o', color='yellow')"
   ]
  },
  {
   "cell_type": "code",
   "execution_count": null,
   "id": "YELGrTuyGjst",
   "metadata": {
    "id": "YELGrTuyGjst"
   },
   "outputs": [],
   "source": [
    "import pickle\n",
    "pickle_out = open(\"dev-model.pkl\",\"wb\")\n",
    "pickle.dump(hclusters, pickle_out)\n",
    "pickle_out.close()"
   ]
  },
  {
   "cell_type": "code",
   "execution_count": null,
   "id": "1e85bc2f",
   "metadata": {},
   "outputs": [],
   "source": [
    "pickled_model = pickle.load(open('dev-model.pkl', 'rb'))"
   ]
  },
  {
   "cell_type": "code",
   "execution_count": null,
   "id": "bd19f2ba",
   "metadata": {},
   "outputs": [],
   "source": []
  }
 ],
 "metadata": {
  "colab": {
   "collapsed_sections": [
    "bccf04ed"
   ],
   "provenance": []
  },
  "kernelspec": {
   "display_name": "Python 3",
   "language": "python",
   "name": "python3"
  },
  "language_info": {
   "codemirror_mode": {
    "name": "ipython",
    "version": 3
   },
   "file_extension": ".py",
   "mimetype": "text/x-python",
   "name": "python",
   "nbconvert_exporter": "python",
   "pygments_lexer": "ipython3",
   "version": "3.8.8"
  }
 },
 "nbformat": 4,
 "nbformat_minor": 5
}
